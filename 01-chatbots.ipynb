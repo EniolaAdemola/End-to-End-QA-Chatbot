{
 "cells": [
  {
   "cell_type": "markdown",
   "metadata": {},
   "source": [
    "## Building A Chatbot\n",
    "In this lecture We'll go over an example of how to design and implement an LLM-powered chatbot. This chatbot will be able to have a conversation and remember previous interactions.\n",
    "\n",
    "Note that this chatbot that we build will only use the language model to have a conversation. There are several other related concepts that you may be looking for:\n",
    "\n",
    "- Conversational RAG: Enable a chatbot experience over an external source of data\n",
    "- Agents: Build a chatbot that can take actions\n",
    "\n",
    "This lecture tutorial will cover the basics which will be helpful for those two more advanced topics."
   ]
  },
  {
   "cell_type": "code",
   "execution_count": 2,
   "metadata": {},
   "outputs": [],
   "source": [
    "import os \n",
    "from dotenv import load_dotenv\n",
    "load_dotenv()\n",
    "\n",
    "groq_api_key = os.getenv(\"GROQ_API_KEY\")"
   ]
  },
  {
   "cell_type": "code",
   "execution_count": 3,
   "metadata": {},
   "outputs": [
    {
     "data": {
      "text/plain": [
       "ChatGroq(client=<groq.resources.chat.completions.Completions object at 0x000001A8CC246C80>, async_client=<groq.resources.chat.completions.AsyncCompletions object at 0x000001A8CC27C0A0>, model_name='Gemma2-9b-It', model_kwargs={}, groq_api_key=SecretStr('**********'))"
      ]
     },
     "execution_count": 3,
     "metadata": {},
     "output_type": "execute_result"
    }
   ],
   "source": [
    "from langchain_groq import ChatGroq\n",
    "\n",
    "model = ChatGroq(model=\"Gemma2-9b-It\", groq_api_key=groq_api_key)\n",
    "model"
   ]
  },
  {
   "cell_type": "code",
   "execution_count": 4,
   "metadata": {},
   "outputs": [
    {
     "data": {
      "text/plain": [
       "AIMessage(content=\"Hello Daveworld! It's nice to meet you.  \\n\\nThat's a fascinating field! What kind of AI engineering do you specialize in? Are you working on anything particularly exciting at the moment? \\n\\nI'm always eager to learn more about what my fellow AI enthusiasts are up to. 😊  \\n\\n\", additional_kwargs={}, response_metadata={'token_usage': {'completion_tokens': 68, 'prompt_tokens': 23, 'total_tokens': 91, 'completion_time': 0.123636364, 'prompt_time': 0.002118105, 'queue_time': 0.019962524000000002, 'total_time': 0.125754469}, 'model_name': 'Gemma2-9b-It', 'system_fingerprint': 'fp_10c08bf97d', 'finish_reason': 'stop', 'logprobs': None}, id='run-9fc435a8-52e6-4112-9cb7-646b99f131a7-0', usage_metadata={'input_tokens': 23, 'output_tokens': 68, 'total_tokens': 91})"
      ]
     },
     "execution_count": 4,
     "metadata": {},
     "output_type": "execute_result"
    }
   ],
   "source": [
    "from langchain_core.messages import HumanMessage\n",
    "model.invoke([HumanMessage(\"Hello, My name is Daveworld and i am an AI Enginner\")])"
   ]
  },
  {
   "cell_type": "code",
   "execution_count": 5,
   "metadata": {},
   "outputs": [
    {
     "data": {
      "text/plain": [
       "AIMessage(content='Your name is Daveworld.  You told me at the beginning of our conversation! 😊  \\n', additional_kwargs={}, response_metadata={'token_usage': {'completion_tokens': 22, 'prompt_tokens': 103, 'total_tokens': 125, 'completion_time': 0.04, 'prompt_time': 0.005502608, 'queue_time': 0.018772242, 'total_time': 0.045502608}, 'model_name': 'Gemma2-9b-It', 'system_fingerprint': 'fp_10c08bf97d', 'finish_reason': 'stop', 'logprobs': None}, id='run-0e66ba25-f77c-4522-9dbd-9e4a4834aef3-0', usage_metadata={'input_tokens': 103, 'output_tokens': 22, 'total_tokens': 125})"
      ]
     },
     "execution_count": 5,
     "metadata": {},
     "output_type": "execute_result"
    }
   ],
   "source": [
    "from langchain_core.messages import AIMessage\n",
    "model.invoke(\n",
    "    [\n",
    "        HumanMessage(content=\"Hello, My name is Daveworld and i am an AI Enginner\"),\n",
    "        AIMessage(content=\"Hello Daveworld! It's nice to meet you.  \\n\\nThat's a fascinating field! What kind of AI engineering do you specialize in? Are you working on anything particularly exciting at the moment? \\n\\nI'm always eager to learn more about what my fellow AI enthusiasts are up to. 😊  \\n\\n\"),\n",
    "        HumanMessage(content=\"WHat is my name\")\n",
    "    ]\n",
    ")"
   ]
  },
  {
   "cell_type": "code",
   "execution_count": 6,
   "metadata": {},
   "outputs": [
    {
     "data": {
      "text/plain": [
       "AIMessage(content=\"As an AI, I have no memory of past conversations and do not know your name. If you'd like to tell me, I'd be happy to use it! 😊\\n\", additional_kwargs={}, response_metadata={'token_usage': {'completion_tokens': 40, 'prompt_tokens': 15, 'total_tokens': 55, 'completion_time': 0.072727273, 'prompt_time': 0.001898276, 'queue_time': 0.019722582, 'total_time': 0.074625549}, 'model_name': 'Gemma2-9b-It', 'system_fingerprint': 'fp_10c08bf97d', 'finish_reason': 'stop', 'logprobs': None}, id='run-615da675-f975-4a1f-90d1-12f9e83c3695-0', usage_metadata={'input_tokens': 15, 'output_tokens': 40, 'total_tokens': 55})"
      ]
     },
     "execution_count": 6,
     "metadata": {},
     "output_type": "execute_result"
    }
   ],
   "source": [
    "model.invoke([HumanMessage(\"WHat us my name?\")])"
   ]
  },
  {
   "cell_type": "markdown",
   "metadata": {},
   "source": [
    "### Message History\n",
    "We can use a Message History class to wrap our model and make it stateful. This will keep track of inputs and outputs of the model, and store them in some datastore. Future interactions will then load those messages and pass them into the chain as part of the input. Let's see how to use this!"
   ]
  },
  {
   "cell_type": "code",
   "execution_count": 7,
   "metadata": {},
   "outputs": [
    {
     "name": "stdout",
     "output_type": "stream",
     "text": [
      "Requirement already satisfied: langchain_community in c:\\users\\hp\\anaconda3\\lib\\site-packages (0.3.3)\n",
      "Requirement already satisfied: PyYAML>=5.3 in c:\\users\\hp\\anaconda3\\lib\\site-packages (from langchain_community) (6.0.1)\n",
      "Requirement already satisfied: SQLAlchemy<3,>=1.4 in c:\\users\\hp\\anaconda3\\lib\\site-packages (from langchain_community) (2.0.30)\n",
      "Requirement already satisfied: aiohttp<4.0.0,>=3.8.3 in c:\\users\\hp\\anaconda3\\lib\\site-packages (from langchain_community) (3.9.5)\n",
      "Requirement already satisfied: dataclasses-json<0.7,>=0.5.7 in c:\\users\\hp\\anaconda3\\lib\\site-packages (from langchain_community) (0.6.7)\n",
      "Requirement already satisfied: langchain<0.4.0,>=0.3.4 in c:\\users\\hp\\anaconda3\\lib\\site-packages (from langchain_community) (0.3.4)\n",
      "Requirement already satisfied: langchain-core<0.4.0,>=0.3.12 in c:\\users\\hp\\anaconda3\\lib\\site-packages (from langchain_community) (0.3.36)\n",
      "Requirement already satisfied: langsmith<0.2.0,>=0.1.125 in c:\\users\\hp\\anaconda3\\lib\\site-packages (from langchain_community) (0.1.136)\n",
      "Requirement already satisfied: numpy<2.0.0,>=1.26.0 in c:\\users\\hp\\anaconda3\\lib\\site-packages (from langchain_community) (1.26.4)\n",
      "Requirement already satisfied: pydantic-settings<3.0.0,>=2.4.0 in c:\\users\\hp\\anaconda3\\lib\\site-packages (from langchain_community) (2.6.0)\n",
      "Requirement already satisfied: requests<3,>=2 in c:\\users\\hp\\anaconda3\\lib\\site-packages (from langchain_community) (2.32.2)\n",
      "Requirement already satisfied: tenacity!=8.4.0,<10,>=8.1.0 in c:\\users\\hp\\anaconda3\\lib\\site-packages (from langchain_community) (8.5.0)\n",
      "Requirement already satisfied: aiosignal>=1.1.2 in c:\\users\\hp\\anaconda3\\lib\\site-packages (from aiohttp<4.0.0,>=3.8.3->langchain_community) (1.2.0)\n",
      "Requirement already satisfied: attrs>=17.3.0 in c:\\users\\hp\\anaconda3\\lib\\site-packages (from aiohttp<4.0.0,>=3.8.3->langchain_community) (23.1.0)\n",
      "Requirement already satisfied: frozenlist>=1.1.1 in c:\\users\\hp\\anaconda3\\lib\\site-packages (from aiohttp<4.0.0,>=3.8.3->langchain_community) (1.4.0)\n",
      "Requirement already satisfied: multidict<7.0,>=4.5 in c:\\users\\hp\\anaconda3\\lib\\site-packages (from aiohttp<4.0.0,>=3.8.3->langchain_community) (6.0.4)\n",
      "Requirement already satisfied: yarl<2.0,>=1.0 in c:\\users\\hp\\anaconda3\\lib\\site-packages (from aiohttp<4.0.0,>=3.8.3->langchain_community) (1.9.3)\n",
      "Requirement already satisfied: marshmallow<4.0.0,>=3.18.0 in c:\\users\\hp\\anaconda3\\lib\\site-packages (from dataclasses-json<0.7,>=0.5.7->langchain_community) (3.23.0)\n",
      "Requirement already satisfied: typing-inspect<1,>=0.4.0 in c:\\users\\hp\\anaconda3\\lib\\site-packages (from dataclasses-json<0.7,>=0.5.7->langchain_community) (0.9.0)\n",
      "Requirement already satisfied: langchain-text-splitters<0.4.0,>=0.3.0 in c:\\users\\hp\\anaconda3\\lib\\site-packages (from langchain<0.4.0,>=0.3.4->langchain_community) (0.3.0)\n",
      "Requirement already satisfied: pydantic<3.0.0,>=2.7.4 in c:\\users\\hp\\anaconda3\\lib\\site-packages (from langchain<0.4.0,>=0.3.4->langchain_community) (2.9.2)\n",
      "Requirement already satisfied: jsonpatch<2.0,>=1.33 in c:\\users\\hp\\anaconda3\\lib\\site-packages (from langchain-core<0.4.0,>=0.3.12->langchain_community) (1.33)\n",
      "Requirement already satisfied: packaging<25,>=23.2 in c:\\users\\hp\\anaconda3\\lib\\site-packages (from langchain-core<0.4.0,>=0.3.12->langchain_community) (23.2)\n",
      "Requirement already satisfied: typing-extensions>=4.7 in c:\\users\\hp\\anaconda3\\lib\\site-packages (from langchain-core<0.4.0,>=0.3.12->langchain_community) (4.11.0)\n",
      "Requirement already satisfied: httpx<1,>=0.23.0 in c:\\users\\hp\\anaconda3\\lib\\site-packages (from langsmith<0.2.0,>=0.1.125->langchain_community) (0.27.0)\n",
      "Requirement already satisfied: orjson<4.0.0,>=3.9.14 in c:\\users\\hp\\anaconda3\\lib\\site-packages (from langsmith<0.2.0,>=0.1.125->langchain_community) (3.10.9)\n",
      "Requirement already satisfied: requests-toolbelt<2.0.0,>=1.0.0 in c:\\users\\hp\\anaconda3\\lib\\site-packages (from langsmith<0.2.0,>=0.1.125->langchain_community) (1.0.0)\n",
      "Requirement already satisfied: python-dotenv>=0.21.0 in c:\\users\\hp\\anaconda3\\lib\\site-packages (from pydantic-settings<3.0.0,>=2.4.0->langchain_community) (0.21.0)\n",
      "Requirement already satisfied: charset-normalizer<4,>=2 in c:\\users\\hp\\anaconda3\\lib\\site-packages (from requests<3,>=2->langchain_community) (2.0.4)\n",
      "Requirement already satisfied: idna<4,>=2.5 in c:\\users\\hp\\anaconda3\\lib\\site-packages (from requests<3,>=2->langchain_community) (3.7)\n",
      "Requirement already satisfied: urllib3<3,>=1.21.1 in c:\\users\\hp\\anaconda3\\lib\\site-packages (from requests<3,>=2->langchain_community) (2.2.2)\n",
      "Requirement already satisfied: certifi>=2017.4.17 in c:\\users\\hp\\anaconda3\\lib\\site-packages (from requests<3,>=2->langchain_community) (2024.8.30)\n",
      "Requirement already satisfied: greenlet!=0.4.17 in c:\\users\\hp\\anaconda3\\lib\\site-packages (from SQLAlchemy<3,>=1.4->langchain_community) (3.0.1)\n",
      "Requirement already satisfied: anyio in c:\\users\\hp\\anaconda3\\lib\\site-packages (from httpx<1,>=0.23.0->langsmith<0.2.0,>=0.1.125->langchain_community) (4.2.0)\n",
      "Requirement already satisfied: httpcore==1.* in c:\\users\\hp\\anaconda3\\lib\\site-packages (from httpx<1,>=0.23.0->langsmith<0.2.0,>=0.1.125->langchain_community) (1.0.2)\n",
      "Requirement already satisfied: sniffio in c:\\users\\hp\\anaconda3\\lib\\site-packages (from httpx<1,>=0.23.0->langsmith<0.2.0,>=0.1.125->langchain_community) (1.3.0)\n",
      "Requirement already satisfied: h11<0.15,>=0.13 in c:\\users\\hp\\anaconda3\\lib\\site-packages (from httpcore==1.*->httpx<1,>=0.23.0->langsmith<0.2.0,>=0.1.125->langchain_community) (0.14.0)\n",
      "Requirement already satisfied: jsonpointer>=1.9 in c:\\users\\hp\\anaconda3\\lib\\site-packages (from jsonpatch<2.0,>=1.33->langchain-core<0.4.0,>=0.3.12->langchain_community) (2.1)\n",
      "Requirement already satisfied: annotated-types>=0.6.0 in c:\\users\\hp\\anaconda3\\lib\\site-packages (from pydantic<3.0.0,>=2.7.4->langchain<0.4.0,>=0.3.4->langchain_community) (0.6.0)\n",
      "Requirement already satisfied: pydantic-core==2.23.4 in c:\\users\\hp\\anaconda3\\lib\\site-packages (from pydantic<3.0.0,>=2.7.4->langchain<0.4.0,>=0.3.4->langchain_community) (2.23.4)\n",
      "Requirement already satisfied: mypy-extensions>=0.3.0 in c:\\users\\hp\\anaconda3\\lib\\site-packages (from typing-inspect<1,>=0.4.0->dataclasses-json<0.7,>=0.5.7->langchain_community) (1.0.0)\n"
     ]
    }
   ],
   "source": [
    "!pip install langchain_community"
   ]
  },
  {
   "cell_type": "code",
   "execution_count": 18,
   "metadata": {},
   "outputs": [],
   "source": [
    "from langchain_community.chat_message_histories import ChatMessageHistory\n",
    "from langchain_core.chat_history import BaseChatMessageHistory\n",
    "from langchain_core.runnables.history import RunnableWithMessageHistory"
   ]
  },
  {
   "cell_type": "code",
   "execution_count": 19,
   "metadata": {},
   "outputs": [],
   "source": [
    "store = {} # This is a dictionary that will store the chat history\n",
    "\n",
    "# create a function to get session history\n",
    "def get_session_history(session_id: str) -> BaseChatMessageHistory:\n",
    "    if session_id not in store: # checkig if the session history exists\n",
    "        store[session_id] = ChatMessageHistory() #creating a new session history if it does not exist\n",
    "    return store[session_id] # returning the session history"
   ]
  },
  {
   "cell_type": "code",
   "execution_count": 20,
   "metadata": {},
   "outputs": [],
   "source": [
    "with_message_history = RunnableWithMessageHistory(model, get_session_history)"
   ]
  },
  {
   "cell_type": "code",
   "execution_count": 11,
   "metadata": {},
   "outputs": [
    {
     "data": {
      "text/plain": [
       "RunnableWithMessageHistory(bound=RunnableBinding(bound=RunnableBinding(bound=RunnableLambda(_enter_history), kwargs={}, config={'run_name': 'load_history'}, config_factories=[])\n",
       "| RunnableBinding(bound=RunnableLambda(_call_runnable_sync), kwargs={}, config={'run_name': 'check_sync_or_async'}, config_factories=[]), kwargs={}, config={'run_name': 'RunnableWithMessageHistory'}, config_factories=[]), kwargs={}, config={}, config_factories=[], get_session_history=<function get_session_history at 0x000001A8CC25A950>, history_factory_config=[ConfigurableFieldSpec(id='session_id', annotation=<class 'str'>, name='Session ID', description='Unique identifier for a session.', default='', is_shared=True, dependencies=None)])"
      ]
     },
     "execution_count": 11,
     "metadata": {},
     "output_type": "execute_result"
    }
   ],
   "source": [
    "with_message_history"
   ]
  },
  {
   "cell_type": "code",
   "execution_count": 21,
   "metadata": {},
   "outputs": [],
   "source": [
    "config = {\"configurable\": {\"session_id\": \"chat1\"}}"
   ]
  },
  {
   "cell_type": "code",
   "execution_count": 22,
   "metadata": {},
   "outputs": [
    {
     "data": {
      "text/plain": [
       "{'configurable': {'session_id': 'chat1'}}"
      ]
     },
     "execution_count": 22,
     "metadata": {},
     "output_type": "execute_result"
    }
   ],
   "source": [
    "config"
   ]
  },
  {
   "cell_type": "code",
   "execution_count": 23,
   "metadata": {},
   "outputs": [],
   "source": [
    "response = with_message_history.invoke(\n",
    "    [HumanMessage(content=\"Hello, My name is Daveworld and i am an AI Enginner\")],\n",
    "    config=config\n",
    ")"
   ]
  },
  {
   "cell_type": "code",
   "execution_count": 24,
   "metadata": {},
   "outputs": [
    {
     "data": {
      "text/plain": [
       "\"Hello Daveworld!  \\n\\nIt's nice to meet you. That's a great field to be in - AI engineering is so exciting right now with all the advancements happening.  \\n\\nWhat kind of AI projects are you working on?  \\n\\n\""
      ]
     },
     "execution_count": 24,
     "metadata": {},
     "output_type": "execute_result"
    }
   ],
   "source": [
    "response.content"
   ]
  },
  {
   "cell_type": "code",
   "execution_count": 25,
   "metadata": {},
   "outputs": [
    {
     "data": {
      "text/plain": [
       "AIMessage(content='According to our conversation, your name is Daveworld. 😊  \\n\\nIs there anything else I can help you with?\\n', additional_kwargs={}, response_metadata={'token_usage': {'completion_tokens': 27, 'prompt_tokens': 89, 'total_tokens': 116, 'completion_time': 0.049090909, 'prompt_time': 0.005494972, 'queue_time': 0.017199646, 'total_time': 0.054585881}, 'model_name': 'Gemma2-9b-It', 'system_fingerprint': 'fp_10c08bf97d', 'finish_reason': 'stop', 'logprobs': None}, id='run-99c8c79c-d3a5-4567-a6f9-2e9480a61815-0', usage_metadata={'input_tokens': 89, 'output_tokens': 27, 'total_tokens': 116})"
      ]
     },
     "execution_count": 25,
     "metadata": {},
     "output_type": "execute_result"
    }
   ],
   "source": [
    "with_message_history.invoke(\n",
    "    [HumanMessage(content=\"What is my name?\")],\n",
    "    config=config\n",
    ")"
   ]
  },
  {
   "cell_type": "code",
   "execution_count": 26,
   "metadata": {},
   "outputs": [],
   "source": [
    "# Creating a new session\n",
    "config2 = {\"configurable\": {\"session_id\": \"chat2\"}}\n",
    "response2 = with_message_history.invoke(\n",
    "    [HumanMessage(content=\"WHat is my name?\")],\n",
    "    config=config2\n",
    ")"
   ]
  },
  {
   "cell_type": "code",
   "execution_count": 27,
   "metadata": {},
   "outputs": [
    {
     "data": {
      "text/plain": [
       "\"As an AI, I have no access to your personal information, including your name. If you'd like to tell me your name, I'd be happy to use it!\\n\""
      ]
     },
     "execution_count": 27,
     "metadata": {},
     "output_type": "execute_result"
    }
   ],
   "source": [
    "response2.content"
   ]
  },
  {
   "cell_type": "code",
   "execution_count": 28,
   "metadata": {},
   "outputs": [
    {
     "data": {
      "text/plain": [
       "'Hi Dave! Nice to meet you.  What can I do for you today? 😊  \\n\\n'"
      ]
     },
     "execution_count": 28,
     "metadata": {},
     "output_type": "execute_result"
    }
   ],
   "source": [
    "response2 = with_message_history.invoke(\n",
    "    [HumanMessage(content=\"Hey, my name is Dave\")],\n",
    "    config=config2\n",
    ")\n",
    "response2.content"
   ]
  },
  {
   "cell_type": "code",
   "execution_count": 29,
   "metadata": {},
   "outputs": [
    {
     "data": {
      "text/plain": [
       "'Your name is Dave!  \\n\\nI remember that you told me earlier. 😊  Anything else I can help you with, Dave? \\n'"
      ]
     },
     "execution_count": 29,
     "metadata": {},
     "output_type": "execute_result"
    }
   ],
   "source": [
    "response2 = with_message_history.invoke(\n",
    "    [HumanMessage(content=\"What is my name?\")],\n",
    "    config=config2\n",
    ")\n",
    "response2.content"
   ]
  },
  {
   "cell_type": "markdown",
   "metadata": {},
   "source": [
    "### Prompt templates\n",
    "Prompt Templates help to turn raw user information into a format that the LLM can work with. In this case, the raw user input is just a message, which we are passing to the LLM. Let's now make that a bit more complicated. First, let's add in a system message with some custom instructions (but still taking messages as input). Next, we'll add in more input besides the messages."
   ]
  },
  {
   "cell_type": "code",
   "execution_count": 30,
   "metadata": {},
   "outputs": [],
   "source": [
    "from langchain_core.prompts import ChatPromptTemplate, MessagesPlaceholder\n",
    "\n",
    "prompt = ChatPromptTemplate.from_messages(\n",
    "    [\n",
    "        (\"system\", \"You are a helpful assistant. Answer all the questions to the best of your ability\"),\n",
    "        MessagesPlaceholder(variable_name=\"user_message\"), # This is a placeholder for the user message\n",
    "    ]\n",
    ")\n",
    "\n",
    "chain = prompt | model"
   ]
  },
  {
   "cell_type": "code",
   "execution_count": 31,
   "metadata": {},
   "outputs": [
    {
     "data": {
      "text/plain": [
       "AIMessage(content=\"Hi Daveworld, it's nice to meet you!  \\n\\nWhat can I do for you today? I'm ready for your questions. 😊 \\n\", additional_kwargs={}, response_metadata={'token_usage': {'completion_tokens': 35, 'prompt_tokens': 31, 'total_tokens': 66, 'completion_time': 0.063636364, 'prompt_time': 0.002358226, 'queue_time': 0.018416823, 'total_time': 0.06599459}, 'model_name': 'Gemma2-9b-It', 'system_fingerprint': 'fp_10c08bf97d', 'finish_reason': 'stop', 'logprobs': None}, id='run-053d0e20-b2ec-4e14-a170-9d54ed8d04c0-0', usage_metadata={'input_tokens': 31, 'output_tokens': 35, 'total_tokens': 66})"
      ]
     },
     "execution_count": 31,
     "metadata": {},
     "output_type": "execute_result"
    }
   ],
   "source": [
    "chain.invoke({\"user_message\": [HumanMessage(content=\"Hi my name is Daveworld\")]})"
   ]
  },
  {
   "cell_type": "code",
   "execution_count": 32,
   "metadata": {},
   "outputs": [],
   "source": [
    "with_message_history = RunnableWithMessageHistory(chain, get_session_history)"
   ]
  },
  {
   "cell_type": "code",
   "execution_count": 33,
   "metadata": {},
   "outputs": [
    {
     "data": {
      "text/plain": [
       "{'chat1': InMemoryChatMessageHistory(messages=[HumanMessage(content='Hello, My name is Daveworld and i am an AI Enginner', additional_kwargs={}, response_metadata={}), AIMessage(content=\"Hello Daveworld!  \\n\\nIt's nice to meet you. That's a great field to be in - AI engineering is so exciting right now with all the advancements happening.  \\n\\nWhat kind of AI projects are you working on?  \\n\\n\", additional_kwargs={}, response_metadata={'token_usage': {'completion_tokens': 54, 'prompt_tokens': 23, 'total_tokens': 77, 'completion_time': 0.098181818, 'prompt_time': 0.002112527, 'queue_time': 0.016745213000000002, 'total_time': 0.100294345}, 'model_name': 'Gemma2-9b-It', 'system_fingerprint': 'fp_10c08bf97d', 'finish_reason': 'stop', 'logprobs': None}, id='run-59a44980-644a-4edd-bcd9-f758369b6ef0-0', usage_metadata={'input_tokens': 23, 'output_tokens': 54, 'total_tokens': 77}), HumanMessage(content='What is my name?', additional_kwargs={}, response_metadata={}), AIMessage(content='According to our conversation, your name is Daveworld. 😊  \\n\\nIs there anything else I can help you with?\\n', additional_kwargs={}, response_metadata={'token_usage': {'completion_tokens': 27, 'prompt_tokens': 89, 'total_tokens': 116, 'completion_time': 0.049090909, 'prompt_time': 0.005494972, 'queue_time': 0.017199646, 'total_time': 0.054585881}, 'model_name': 'Gemma2-9b-It', 'system_fingerprint': 'fp_10c08bf97d', 'finish_reason': 'stop', 'logprobs': None}, id='run-99c8c79c-d3a5-4567-a6f9-2e9480a61815-0', usage_metadata={'input_tokens': 89, 'output_tokens': 27, 'total_tokens': 116})]),\n",
       " 'chat2': InMemoryChatMessageHistory(messages=[HumanMessage(content='WHat is my name?', additional_kwargs={}, response_metadata={}), AIMessage(content=\"As an AI, I have no access to your personal information, including your name. If you'd like to tell me your name, I'd be happy to use it!\\n\", additional_kwargs={}, response_metadata={'token_usage': {'completion_tokens': 40, 'prompt_tokens': 15, 'total_tokens': 55, 'completion_time': 0.072727273, 'prompt_time': 0.001910887, 'queue_time': 0.019534311, 'total_time': 0.07463816}, 'model_name': 'Gemma2-9b-It', 'system_fingerprint': 'fp_10c08bf97d', 'finish_reason': 'stop', 'logprobs': None}, id='run-41ca4c93-96ca-48b2-991d-ecfdb37af4ce-0', usage_metadata={'input_tokens': 15, 'output_tokens': 40, 'total_tokens': 55}), HumanMessage(content='Hey, my name is Dave', additional_kwargs={}, response_metadata={}), AIMessage(content='Hi Dave! Nice to meet you.  What can I do for you today? 😊  \\n\\n', additional_kwargs={}, response_metadata={'token_usage': {'completion_tokens': 23, 'prompt_tokens': 69, 'total_tokens': 92, 'completion_time': 0.041818182, 'prompt_time': 0.004027914, 'queue_time': 0.018424704, 'total_time': 0.045846096}, 'model_name': 'Gemma2-9b-It', 'system_fingerprint': 'fp_10c08bf97d', 'finish_reason': 'stop', 'logprobs': None}, id='run-e251b14c-56cb-4c2d-b812-48340890f4c0-0', usage_metadata={'input_tokens': 69, 'output_tokens': 23, 'total_tokens': 92}), HumanMessage(content='What is my name?', additional_kwargs={}, response_metadata={}), AIMessage(content='Your name is Dave!  \\n\\nI remember that you told me earlier. 😊  Anything else I can help you with, Dave? \\n', additional_kwargs={}, response_metadata={'token_usage': {'completion_tokens': 31, 'prompt_tokens': 104, 'total_tokens': 135, 'completion_time': 0.056363636, 'prompt_time': 0.005128252, 'queue_time': 0.020080686, 'total_time': 0.061491888}, 'model_name': 'Gemma2-9b-It', 'system_fingerprint': 'fp_10c08bf97d', 'finish_reason': 'stop', 'logprobs': None}, id='run-77f50429-10d2-46b7-882f-f304445a26d4-0', usage_metadata={'input_tokens': 104, 'output_tokens': 31, 'total_tokens': 135})])}"
      ]
     },
     "execution_count": 33,
     "metadata": {},
     "output_type": "execute_result"
    }
   ],
   "source": [
    "store"
   ]
  },
  {
   "cell_type": "code",
   "execution_count": 34,
   "metadata": {},
   "outputs": [
    {
     "data": {
      "text/plain": [
       "\"Hello Daveworld! It's nice to meet you.  \\n\\nI'm ready to answer your questions. What can I do for you today? 😁  \\n\\n\""
      ]
     },
     "execution_count": 34,
     "metadata": {},
     "output_type": "execute_result"
    }
   ],
   "source": [
    "config3 = {\"configurable\": {\"session_id\": \"chat3\"}}\n",
    "response3 = with_message_history.invoke(\n",
    "    [HumanMessage(content=\"Hi my name is Daveworld\")],\n",
    "    config=config3\n",
    ")\n",
    "\n",
    "response3.content"
   ]
  },
  {
   "cell_type": "code",
   "execution_count": 83,
   "metadata": {},
   "outputs": [],
   "source": [
    "prompt = ChatPromptTemplate.from_messages(\n",
    "    [\n",
    "        (\"system\", \"You are a helpful assistant. Answer all the questions to the best of your ability in this language:{language}\"),\n",
    "        MessagesPlaceholder(variable_name=\"user_message\"), # This is a placeholder for the user message\n",
    "    ]\n",
    ")\n",
    "\n",
    "chain = prompt | model"
   ]
  },
  {
   "cell_type": "code",
   "execution_count": 84,
   "metadata": {},
   "outputs": [
    {
     "data": {
      "text/plain": [
       "\"Ẹ kú àárọ̀, Daveworld!  \\n\\nMi o le ṣe ìrànwọ́ ènìyàn. Ẹ́yàn mọ́ wọ́n ni ń lọ́wọ́ mi. \\n\\n\\n(Hello, Daveworld!\\n\\nI can't do human things. People are helping me.) \\n\\nO dábọ̀ ọ̀yà kan fún mi?\\n\\n\\n\\n(Do you have a question for me?) \\n\\n\""
      ]
     },
     "execution_count": 84,
     "metadata": {},
     "output_type": "execute_result"
    }
   ],
   "source": [
    "response4 = chain.invoke({\"user_message\": [HumanMessage(content=\"Hi my name is Daveworld\")], \"language\": \"yoruba\"})\n",
    "response4.content"
   ]
  },
  {
   "cell_type": "markdown",
   "metadata": {},
   "source": [
    "Let's go ahead wrap this in more complicated chains in a message history class."
   ]
  },
  {
   "cell_type": "code",
   "execution_count": 78,
   "metadata": {},
   "outputs": [],
   "source": [
    "with_message_history= RunnableWithMessageHistory(\n",
    "    chain,\n",
    "    get_session_history,\n",
    "    input_messages_key=\"user_message\", # This is the key for the input message\n",
    ")"
   ]
  },
  {
   "cell_type": "code",
   "execution_count": 79,
   "metadata": {},
   "outputs": [
    {
     "data": {
      "text/plain": [
       "{'chat1': InMemoryChatMessageHistory(messages=[HumanMessage(content='Hello, My name is Daveworld and i am an AI Enginner', additional_kwargs={}, response_metadata={}), AIMessage(content=\"Hello Daveworld!  \\n\\nIt's nice to meet you. That's a great field to be in - AI engineering is so exciting right now with all the advancements happening.  \\n\\nWhat kind of AI projects are you working on?  \\n\\n\", additional_kwargs={}, response_metadata={'token_usage': {'completion_tokens': 54, 'prompt_tokens': 23, 'total_tokens': 77, 'completion_time': 0.098181818, 'prompt_time': 0.002112527, 'queue_time': 0.016745213000000002, 'total_time': 0.100294345}, 'model_name': 'Gemma2-9b-It', 'system_fingerprint': 'fp_10c08bf97d', 'finish_reason': 'stop', 'logprobs': None}, id='run-59a44980-644a-4edd-bcd9-f758369b6ef0-0', usage_metadata={'input_tokens': 23, 'output_tokens': 54, 'total_tokens': 77}), HumanMessage(content='What is my name?', additional_kwargs={}, response_metadata={}), AIMessage(content='According to our conversation, your name is Daveworld. 😊  \\n\\nIs there anything else I can help you with?\\n', additional_kwargs={}, response_metadata={'token_usage': {'completion_tokens': 27, 'prompt_tokens': 89, 'total_tokens': 116, 'completion_time': 0.049090909, 'prompt_time': 0.005494972, 'queue_time': 0.017199646, 'total_time': 0.054585881}, 'model_name': 'Gemma2-9b-It', 'system_fingerprint': 'fp_10c08bf97d', 'finish_reason': 'stop', 'logprobs': None}, id='run-99c8c79c-d3a5-4567-a6f9-2e9480a61815-0', usage_metadata={'input_tokens': 89, 'output_tokens': 27, 'total_tokens': 116})]),\n",
       " 'chat2': InMemoryChatMessageHistory(messages=[HumanMessage(content='WHat is my name?', additional_kwargs={}, response_metadata={}), AIMessage(content=\"As an AI, I have no access to your personal information, including your name. If you'd like to tell me your name, I'd be happy to use it!\\n\", additional_kwargs={}, response_metadata={'token_usage': {'completion_tokens': 40, 'prompt_tokens': 15, 'total_tokens': 55, 'completion_time': 0.072727273, 'prompt_time': 0.001910887, 'queue_time': 0.019534311, 'total_time': 0.07463816}, 'model_name': 'Gemma2-9b-It', 'system_fingerprint': 'fp_10c08bf97d', 'finish_reason': 'stop', 'logprobs': None}, id='run-41ca4c93-96ca-48b2-991d-ecfdb37af4ce-0', usage_metadata={'input_tokens': 15, 'output_tokens': 40, 'total_tokens': 55}), HumanMessage(content='Hey, my name is Dave', additional_kwargs={}, response_metadata={}), AIMessage(content='Hi Dave! Nice to meet you.  What can I do for you today? 😊  \\n\\n', additional_kwargs={}, response_metadata={'token_usage': {'completion_tokens': 23, 'prompt_tokens': 69, 'total_tokens': 92, 'completion_time': 0.041818182, 'prompt_time': 0.004027914, 'queue_time': 0.018424704, 'total_time': 0.045846096}, 'model_name': 'Gemma2-9b-It', 'system_fingerprint': 'fp_10c08bf97d', 'finish_reason': 'stop', 'logprobs': None}, id='run-e251b14c-56cb-4c2d-b812-48340890f4c0-0', usage_metadata={'input_tokens': 69, 'output_tokens': 23, 'total_tokens': 92}), HumanMessage(content='What is my name?', additional_kwargs={}, response_metadata={}), AIMessage(content='Your name is Dave!  \\n\\nI remember that you told me earlier. 😊  Anything else I can help you with, Dave? \\n', additional_kwargs={}, response_metadata={'token_usage': {'completion_tokens': 31, 'prompt_tokens': 104, 'total_tokens': 135, 'completion_time': 0.056363636, 'prompt_time': 0.005128252, 'queue_time': 0.020080686, 'total_time': 0.061491888}, 'model_name': 'Gemma2-9b-It', 'system_fingerprint': 'fp_10c08bf97d', 'finish_reason': 'stop', 'logprobs': None}, id='run-77f50429-10d2-46b7-882f-f304445a26d4-0', usage_metadata={'input_tokens': 104, 'output_tokens': 31, 'total_tokens': 135})]),\n",
       " 'chat3': InMemoryChatMessageHistory(messages=[HumanMessage(content='Hi my name is Daveworld', additional_kwargs={}, response_metadata={}), AIMessage(content=\"Hello Daveworld! It's nice to meet you.  \\n\\nI'm ready to answer your questions. What can I do for you today? 😁  \\n\\n\", additional_kwargs={}, response_metadata={'token_usage': {'completion_tokens': 37, 'prompt_tokens': 31, 'total_tokens': 68, 'completion_time': 0.067272727, 'prompt_time': 0.002793264, 'queue_time': 0.245895475, 'total_time': 0.070065991}, 'model_name': 'Gemma2-9b-It', 'system_fingerprint': 'fp_10c08bf97d', 'finish_reason': 'stop', 'logprobs': None}, id='run-c99f889a-4a86-41aa-a1bd-47537f663470-0', usage_metadata={'input_tokens': 31, 'output_tokens': 37, 'total_tokens': 68})]),\n",
       " 'chat4': InMemoryChatMessageHistory(messages=[HumanMessage(content='Hi my name is Daveworld', additional_kwargs={}, response_metadata={}), AIMessage(content=\"Hello Daveworld! It's nice to meet you. \\n\\nI'm ready for your questions.  What can I help you with today? 😊  \\n\\n\", additional_kwargs={}, response_metadata={'token_usage': {'completion_tokens': 37, 'prompt_tokens': 31, 'total_tokens': 68, 'completion_time': 0.067272727, 'prompt_time': 0.002349125, 'queue_time': 0.018318644999999998, 'total_time': 0.069621852}, 'model_name': 'Gemma2-9b-It', 'system_fingerprint': 'fp_10c08bf97d', 'finish_reason': 'stop', 'logprobs': None}, id='run-35a6e4d2-8ec9-4910-80ca-aef184c9f0a9-0', usage_metadata={'input_tokens': 31, 'output_tokens': 37, 'total_tokens': 68}), HumanMessage(content='Hi my name is Daveworld', additional_kwargs={}, response_metadata={}), AIMessage(content=\"Hello Daveworld! It's nice to meet you. \\n\\nIs there anything I can help you with? 😊  \\n\", additional_kwargs={}, response_metadata={'token_usage': {'completion_tokens': 28, 'prompt_tokens': 81, 'total_tokens': 109, 'completion_time': 0.050909091, 'prompt_time': 0.005074269, 'queue_time': 0.020382641, 'total_time': 0.05598336}, 'model_name': 'Gemma2-9b-It', 'system_fingerprint': 'fp_10c08bf97d', 'finish_reason': 'stop', 'logprobs': None}, id='run-9e772a29-2d21-47ec-9fcf-e59cb84cc4f0-0', usage_metadata={'input_tokens': 81, 'output_tokens': 28, 'total_tokens': 109}), HumanMessage(content='Hi my name is Daveworld', additional_kwargs={}, response_metadata={}), AIMessage(content='Alright Daveworld, I know your name now!  \\n\\nWhat can I do for you? 🙂  \\n\\n', additional_kwargs={}, response_metadata={'token_usage': {'completion_tokens': 25, 'prompt_tokens': 129, 'total_tokens': 154, 'completion_time': 0.045454545, 'prompt_time': 0.005561518, 'queue_time': 0.019759462, 'total_time': 0.051016063}, 'model_name': 'Gemma2-9b-It', 'system_fingerprint': 'fp_10c08bf97d', 'finish_reason': 'stop', 'logprobs': None}, id='run-5dbc65e0-a714-4c78-83b4-3dae507120a7-0', usage_metadata={'input_tokens': 129, 'output_tokens': 25, 'total_tokens': 154}), HumanMessage(content='Hi my name is Daveworld', additional_kwargs={}, response_metadata={}), AIMessage(content=\"😁  Daveworld, you're saying hello a lot!  \\n\\nI'm happy to chat, but do you have a question for me or something you'd like to talk about?  \\n\", additional_kwargs={}, response_metadata={'token_usage': {'completion_tokens': 44, 'prompt_tokens': 167, 'total_tokens': 211, 'completion_time': 0.08, 'prompt_time': 0.008414823, 'queue_time': 0.06383621, 'total_time': 0.088414823}, 'model_name': 'Gemma2-9b-It', 'system_fingerprint': 'fp_10c08bf97d', 'finish_reason': 'stop', 'logprobs': None}, id='run-8ca7a92e-adb8-4c85-a511-d81485aed659-0', usage_metadata={'input_tokens': 167, 'output_tokens': 44, 'total_tokens': 211}), HumanMessage(content='Hi my name is Daveworld', additional_kwargs={}, response_metadata={}), AIMessage(content=\"😄  Daveworld, I understand! It's nice to meet you.\\n\\nIs there anything I can help you with today? 🤔 Maybe you'd like to:\\n\\n*  **Learn some Yoruba words?**\\n*  **Translate something?**\\n*  **Get help with a creative writing project?** \\n\\n\\n\\nLet me know!  \\n\", additional_kwargs={}, response_metadata={'token_usage': {'completion_tokens': 76, 'prompt_tokens': 225, 'total_tokens': 301, 'completion_time': 0.138181818, 'prompt_time': 0.010655288, 'queue_time': 0.019080409, 'total_time': 0.148837106}, 'model_name': 'Gemma2-9b-It', 'system_fingerprint': 'fp_10c08bf97d', 'finish_reason': 'stop', 'logprobs': None}, id='run-52077241-1299-432d-a422-b194370a3762-0', usage_metadata={'input_tokens': 225, 'output_tokens': 76, 'total_tokens': 301}), HumanMessage(content='Hi my name is Daveworld', additional_kwargs={}, response_metadata={}), AIMessage(content=\"👋  Hello Daveworld! It's great to meet you.\\n\\nI'm ready when you are! What can I do for you today?  \\n\", additional_kwargs={}, response_metadata={'token_usage': {'completion_tokens': 35, 'prompt_tokens': 315, 'total_tokens': 350, 'completion_time': 0.063636364, 'prompt_time': 0.018572042, 'queue_time': 0.020423501, 'total_time': 0.082208406}, 'model_name': 'Gemma2-9b-It', 'system_fingerprint': 'fp_10c08bf97d', 'finish_reason': 'stop', 'logprobs': None}, id='run-ae4f2c8a-b958-4fd9-9e1a-e1cbe7fa4504-0', usage_metadata={'input_tokens': 315, 'output_tokens': 35, 'total_tokens': 350}), HumanMessage(content='Hi my name is Daveworld', additional_kwargs={}, response_metadata={}), AIMessage(content=\"😊  It's nice to meet you, Daveworld!\\n\\nAre you ready to start chatting now? I'm here to help with anything you need.\\n\", additional_kwargs={}, response_metadata={'token_usage': {'completion_tokens': 36, 'prompt_tokens': 364, 'total_tokens': 400, 'completion_time': 0.065454545, 'prompt_time': 0.013891651, 'queue_time': 0.019109626000000005, 'total_time': 0.079346196}, 'model_name': 'Gemma2-9b-It', 'system_fingerprint': 'fp_10c08bf97d', 'finish_reason': 'stop', 'logprobs': None}, id='run-cdc59e8b-32c4-44b6-a148-cb7db8d3256f-0', usage_metadata={'input_tokens': 364, 'output_tokens': 36, 'total_tokens': 400}), HumanMessage(content='Hi my name is Daveworld', additional_kwargs={}, response_metadata={}), AIMessage(content=\"😊 Daveworld, it's lovely to meet you! \\n\\nI'm excited to chat. What's on your mind today?\\n\\n\\n\", additional_kwargs={}, response_metadata={'token_usage': {'completion_tokens': 33, 'prompt_tokens': 414, 'total_tokens': 447, 'completion_time': 0.06, 'prompt_time': 0.015468208, 'queue_time': 0.021792047999999998, 'total_time': 0.075468208}, 'model_name': 'Gemma2-9b-It', 'system_fingerprint': 'fp_10c08bf97d', 'finish_reason': 'stop', 'logprobs': None}, id='run-e439e24d-48a8-450c-a942-ec29abcab95e-0', usage_metadata={'input_tokens': 414, 'output_tokens': 33, 'total_tokens': 447}), HumanMessage(content='Hi my name is Daveworld', additional_kwargs={}, response_metadata={}), AIMessage(content=\"👋  Daveworld! I'm glad we're finally connecting.  \\n\\nWhat can I do for you today?  😊 \\n\", additional_kwargs={}, response_metadata={'token_usage': {'completion_tokens': 31, 'prompt_tokens': 460, 'total_tokens': 491, 'completion_time': 0.056363636, 'prompt_time': 0.034598609, 'queue_time': 0.244778863, 'total_time': 0.090962245}, 'model_name': 'Gemma2-9b-It', 'system_fingerprint': 'fp_10c08bf97d', 'finish_reason': 'stop', 'logprobs': None}, id='run-f533f7a7-f049-43b6-8e1e-f58036996ead-0', usage_metadata={'input_tokens': 460, 'output_tokens': 31, 'total_tokens': 491}), HumanMessage(content='Hi my name is Daveworld', additional_kwargs={}, response_metadata={}), AIMessage(content=\"😄  Daveworld!  \\n\\nI'm ready for anything! What can I help you with today? \\n\\nMaybe you want to...\\n\\n* **Learn some Yoruba phrases?** \\n* **Translate something?**\\n* **Talk about your interests?**\\n\\n\\nLet me know! 😊\\n\", additional_kwargs={}, response_metadata={'token_usage': {'completion_tokens': 64, 'prompt_tokens': 505, 'total_tokens': 569, 'completion_time': 0.116363636, 'prompt_time': 0.021303337, 'queue_time': 0.018124672, 'total_time': 0.137666973}, 'model_name': 'Gemma2-9b-It', 'system_fingerprint': 'fp_10c08bf97d', 'finish_reason': 'stop', 'logprobs': None}, id='run-1a805534-eab2-4cab-9eef-8ed19ce14d33-0', usage_metadata={'input_tokens': 505, 'output_tokens': 64, 'total_tokens': 569}), HumanMessage(content='Hi my name is Daveworld', additional_kwargs={}, response_metadata={}), AIMessage(content=\"Hey Daveworld! \\n\\nIt's great to meet you! \\n\\nWhat can I do for you today?  Do you have any questions for me, or would you like to chat about something in particular?  😄 \\n\\n\\n\\n\\n\", additional_kwargs={}, response_metadata={'token_usage': {'completion_tokens': 51, 'prompt_tokens': 581, 'total_tokens': 632, 'completion_time': 0.092727273, 'prompt_time': 0.020975707, 'queue_time': 0.020906879, 'total_time': 0.11370298}, 'model_name': 'Gemma2-9b-It', 'system_fingerprint': 'fp_10c08bf97d', 'finish_reason': 'stop', 'logprobs': None}, id='run-38bffd5d-f7b7-48e2-b8a0-ed2efd4d6590-0', usage_metadata={'input_tokens': 581, 'output_tokens': 51, 'total_tokens': 632})])}"
      ]
     },
     "execution_count": 79,
     "metadata": {},
     "output_type": "execute_result"
    }
   ],
   "source": [
    "store"
   ]
  },
  {
   "cell_type": "code",
   "execution_count": 88,
   "metadata": {},
   "outputs": [
    {
     "data": {
      "text/plain": [
       "'Ehee! Daveworld, ka unu bu. Ụrụ ị ga-achịkwa m? \\n\\n(What can I do for you?)\\n'"
      ]
     },
     "execution_count": 88,
     "metadata": {},
     "output_type": "execute_result"
    }
   ],
   "source": [
    "config4 = {\"configurable\": {\"session_id\": \"chat5\"}}\n",
    "response4 = with_message_history.invoke({\"user_message\": [HumanMessage(content=\"Hi my name is Daveworld\")], \"language\": \"igbo\"},\n",
    "    config=config4\n",
    ")\n",
    "\n",
    "response4.content"
   ]
  },
  {
   "cell_type": "code",
   "execution_count": 92,
   "metadata": {},
   "outputs": [],
   "source": [
    "reponse5 = with_message_history.invoke(\n",
    "    {\"user_message\": [HumanMessage(content=\"What is my name\")], \"language\": \"igbo\"},\n",
    "    config=config4\n",
    ")"
   ]
  },
  {
   "cell_type": "code",
   "execution_count": 93,
   "metadata": {},
   "outputs": [
    {
     "data": {
      "text/plain": [
       "'Aha gị bụ Daveworld.  \\n'"
      ]
     },
     "execution_count": 93,
     "metadata": {},
     "output_type": "execute_result"
    }
   ],
   "source": [
    "reponse5.content"
   ]
  },
  {
   "cell_type": "markdown",
   "metadata": {},
   "source": [
    "### Managing the Conversation History\n",
    "One important concept to understand when building chatbots is how to manage conversation history. If left unmanaged, the list of messages will grow unbounded and potentially overflow the context window of the LLM. Therefore, it is important to add a step that limits the size of the messages you are passing in.\n",
    "'trim_messages' helper to reduce how many messages we're sending to the model. The trimmer allows us to specify how many tokens we want to keep, along with other parameters like if we want to always keep the system message and whether to allow partial messages"
   ]
  },
  {
   "cell_type": "code",
   "execution_count": 108,
   "metadata": {},
   "outputs": [
    {
     "data": {
      "text/plain": [
       "[SystemMessage(content=\"you're a good assistant\", additional_kwargs={}, response_metadata={}),\n",
       " HumanMessage(content='thanks', additional_kwargs={}, response_metadata={}),\n",
       " AIMessage(content='no problem!', additional_kwargs={}, response_metadata={}),\n",
       " HumanMessage(content='having fun?', additional_kwargs={}, response_metadata={}),\n",
       " AIMessage(content='yes!', additional_kwargs={}, response_metadata={})]"
      ]
     },
     "execution_count": 108,
     "metadata": {},
     "output_type": "execute_result"
    }
   ],
   "source": [
    "from langchain_core.messages import SystemMessage, trim_messages\n",
    "\n",
    "trimmer = trim_messages(\n",
    "    max_tokens=30, ## the maximum number of tokens\n",
    "    strategy=\"last\", ## the strategy to use (last or first) last focus on the last conversation it got\n",
    "    token_counter=model, ## the token counter\n",
    "    include_system=True, ## include the system message\n",
    "    allow_partial=False, ## allow partial messages\n",
    "    start_on=\"human\" ## start on the human message\n",
    ")\n",
    "\n",
    "messages_new = [\n",
    "    SystemMessage(content=\"you're a good assistant\"),\n",
    "    HumanMessage(content=\"hi! I'm bob\"),\n",
    "    AIMessage(content=\"hi!\"),\n",
    "    HumanMessage(content=\"I like vanilla ice cream\"),\n",
    "    AIMessage(content=\"nice\"),\n",
    "    HumanMessage(content=\"whats 2 + 2\"),\n",
    "    AIMessage(content=\"4\"),\n",
    "    HumanMessage(content=\"thanks\"),\n",
    "    AIMessage(content=\"no problem!\"),\n",
    "    HumanMessage(content=\"having fun?\"),\n",
    "    AIMessage(content=\"yes!\"),\n",
    "]\n",
    "\n",
    "trimmer.invoke(messages_new)"
   ]
  },
  {
   "cell_type": "code",
   "execution_count": 111,
   "metadata": {},
   "outputs": [],
   "source": [
    "from operator import itemgetter\n",
    "from langchain_core.runnables import RunnablePassthrough\n",
    "\n",
    "chain = (\n",
    "    RunnablePassthrough.assign(messages=itemgetter(\"user_message\") | trimmer) \n",
    "    | prompt\n",
    "    | model\n",
    ")\n",
    "\n",
    "response7 = chain.invoke(\n",
    "    {\n",
    "        \"user_message\": messages_new  + [HumanMessage(content=\"What is my name\")],\n",
    "        \"language\": \"english\"    \n",
    "    }\n",
    ")"
   ]
  },
  {
   "cell_type": "code",
   "execution_count": 112,
   "metadata": {},
   "outputs": [
    {
     "data": {
      "text/plain": [
       "'Your name is Bob! 😄\\n'"
      ]
     },
     "execution_count": 112,
     "metadata": {},
     "output_type": "execute_result"
    }
   ],
   "source": [
    "response7.content"
   ]
  },
  {
   "cell_type": "code",
   "execution_count": 105,
   "metadata": {},
   "outputs": [],
   "source": [
    "response6 = chain.invoke(\n",
    "    {\n",
    "        \"user_message\": messages  + [HumanMessage(content=\"What type of ice cream do i like?\")],\n",
    "        \"language\": \"english\"    \n",
    "    }\n",
    ")"
   ]
  },
  {
   "cell_type": "code",
   "execution_count": 106,
   "metadata": {},
   "outputs": [
    {
     "data": {
      "text/plain": [
       "'You said you like vanilla ice cream. 😊  \\n\\n\\n\\n'"
      ]
     },
     "execution_count": 106,
     "metadata": {},
     "output_type": "execute_result"
    }
   ],
   "source": [
    "response6.content"
   ]
  },
  {
   "cell_type": "code",
   "execution_count": 114,
   "metadata": {},
   "outputs": [],
   "source": [
    "response = with_message_history.invoke(\n",
    "    {\n",
    "        \"user_message\" : messages_new + [HumanMessage(content=\"What is my name\")],\n",
    "        \"language\": \"English\"\n",
    "    },\n",
    "    config=config\n",
    ")"
   ]
  },
  {
   "cell_type": "code",
   "execution_count": 115,
   "metadata": {},
   "outputs": [
    {
     "data": {
      "text/plain": [
       "'Your name is Bob!  \\n\\nIs there anything else I can help you with?'"
      ]
     },
     "execution_count": 115,
     "metadata": {},
     "output_type": "execute_result"
    }
   ],
   "source": [
    "response.content"
   ]
  },
  {
   "cell_type": "code",
   "execution_count": null,
   "metadata": {},
   "outputs": [],
   "source": []
  }
 ],
 "metadata": {
  "kernelspec": {
   "display_name": "Python 3",
   "language": "python",
   "name": "python3"
  },
  "language_info": {
   "codemirror_mode": {
    "name": "ipython",
    "version": 3
   },
   "file_extension": ".py",
   "mimetype": "text/x-python",
   "name": "python",
   "nbconvert_exporter": "python",
   "pygments_lexer": "ipython3",
   "version": "3.10.0"
  }
 },
 "nbformat": 4,
 "nbformat_minor": 2
}
